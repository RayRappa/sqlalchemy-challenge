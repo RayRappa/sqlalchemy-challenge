{
 "cells": [
  {
   "cell_type": "code",
   "execution_count": 1,
   "metadata": {},
   "outputs": [],
   "source": [
    "%matplotlib inline\n",
    "from matplotlib import style\n",
    "style.use('fivethirtyeight')\n",
    "import matplotlib.pyplot as plt"
   ]
  },
  {
   "cell_type": "code",
   "execution_count": 2,
   "metadata": {},
   "outputs": [],
   "source": [
    "import numpy as np\n",
    "import pandas as pd\n",
    "import datetime as dt"
   ]
  },
  {
   "cell_type": "code",
   "execution_count": 3,
   "metadata": {},
   "outputs": [],
   "source": [
    "# Reflect Tables in SQLAlchemy ORM"
   ]
  },
  {
   "cell_type": "code",
   "execution_count": 4,
   "metadata": {},
   "outputs": [],
   "source": [
    "# Python SQL toolkit and Object Relational Mapper\n",
    "import sqlalchemy\n",
    "from sqlalchemy.ext.automap import automap_base\n",
    "from sqlalchemy.orm import Session\n",
    "from sqlalchemy import create_engine, func\n"
   ]
  },
  {
   "cell_type": "code",
   "execution_count": 5,
   "metadata": {},
   "outputs": [],
   "source": [
    "# create engine to hawaii.sqlite\n",
    "engine = create_engine(\"sqlite:///Resources/hawaii.sqlite\")"
   ]
  },
  {
   "cell_type": "code",
   "execution_count": 6,
   "metadata": {},
   "outputs": [],
   "source": [
    "# reflect an existing database into a new model\n",
    "Base = automap_base()"
   ]
  },
  {
   "cell_type": "code",
   "execution_count": 7,
   "metadata": {},
   "outputs": [],
   "source": [
    "# reflect the tables\n",
    "Base.prepare(engine, reflect=True)"
   ]
  },
  {
   "cell_type": "code",
   "execution_count": 8,
   "metadata": {},
   "outputs": [
    {
     "data": {
      "text/plain": [
       "['measurement', 'station']"
      ]
     },
     "execution_count": 8,
     "metadata": {},
     "output_type": "execute_result"
    }
   ],
   "source": [
    "# View all of the classes that automap found\n",
    "Base.classes.keys()"
   ]
  },
  {
   "cell_type": "code",
   "execution_count": 9,
   "metadata": {},
   "outputs": [],
   "source": [
    "# Save references to each table\n",
    "Measurement = Base.classes.measurement\n",
    "Station = Base.classes.station"
   ]
  },
  {
   "cell_type": "code",
   "execution_count": 10,
   "metadata": {},
   "outputs": [],
   "source": [
    "# Create our session (link) from Python to the DB\n",
    "session = Session(engine)"
   ]
  },
  {
   "cell_type": "code",
   "execution_count": 11,
   "metadata": {},
   "outputs": [],
   "source": [
    "# Exploratory Climate Analysis"
   ]
  },
  {
   "cell_type": "code",
   "execution_count": 12,
   "metadata": {
    "scrolled": true
   },
   "outputs": [
    {
     "data": {
      "text/plain": [
       "[(1, 'USC00519397', '2010-01-01', 0.08, 65.0),\n",
       " (2, 'USC00519397', '2010-01-02', 0.0, 63.0),\n",
       " (3, 'USC00519397', '2010-01-03', 0.0, 74.0),\n",
       " (4, 'USC00519397', '2010-01-04', 0.0, 76.0),\n",
       " (5, 'USC00519397', '2010-01-06', None, 73.0)]"
      ]
     },
     "execution_count": 12,
     "metadata": {},
     "output_type": "execute_result"
    }
   ],
   "source": [
    "engine.execute('Select * from measurement LIMIT 5').fetchall()\n"
   ]
  },
  {
   "cell_type": "code",
   "execution_count": 13,
   "metadata": {
    "scrolled": true
   },
   "outputs": [
    {
     "data": {
      "text/plain": [
       "[(1, 'USC00519397', 'WAIKIKI 717.2, HI US', 21.2716, -157.8168, 3.0),\n",
       " (2, 'USC00513117', 'KANEOHE 838.1, HI US', 21.4234, -157.8015, 14.6),\n",
       " (3, 'USC00514830', 'KUALOA RANCH HEADQUARTERS 886.9, HI US', 21.5213, -157.8374, 7.0),\n",
       " (4, 'USC00517948', 'PEARL CITY, HI US', 21.3934, -157.9751, 11.9),\n",
       " (5, 'USC00518838', 'UPPER WAHIAWA 874.3, HI US', 21.4992, -158.0111, 306.6)]"
      ]
     },
     "execution_count": 13,
     "metadata": {},
     "output_type": "execute_result"
    }
   ],
   "source": [
    "engine.execute('Select * from station LIMIT 5').fetchall()"
   ]
  },
  {
   "cell_type": "code",
   "execution_count": 14,
   "metadata": {},
   "outputs": [
    {
     "data": {
      "text/plain": [
       "('2017-08-23',)"
      ]
     },
     "execution_count": 14,
     "metadata": {},
     "output_type": "execute_result"
    }
   ],
   "source": [
    "# Design a query to retreive th elast 12 months of precipitation data and plot the results.\n",
    "# Starting from the most recent data point in the database. \n",
    "latest_date=(session.query(Measurement.date)\n",
    "                    .order_by(Measurement.date.desc())\n",
    "                    .first())\n",
    "latest_date"
   ]
  },
  {
   "cell_type": "code",
   "execution_count": 15,
   "metadata": {},
   "outputs": [
    {
     "name": "stdout",
     "output_type": "stream",
     "text": [
      "Query Date: 2016-08-22\n"
     ]
    }
   ],
   "source": [
    "# Calculate the date one year from the last date in data set.\n",
    "# Perform a query to retrieve the data and precipitation scores\n",
    "\n",
    "year_ago_date=dt.date(2017, 8, 23) - dt.timedelta(days=366)\n",
    "print('Query Date:', year_ago_date)"
   ]
  },
  {
   "cell_type": "code",
   "execution_count": 16,
   "metadata": {},
   "outputs": [
    {
     "data": {
      "text/plain": [
       "[('2016-08-23', 1.79),\n",
       " ('2016-08-24', 2.28),\n",
       " ('2016-08-25', 0.21),\n",
       " ('2016-08-26', 0.04),\n",
       " ('2016-08-27', 0.18),\n",
       " ('2016-08-28', 2.07),\n",
       " ('2016-08-29', 0.9),\n",
       " ('2016-08-30', 0.05),\n",
       " ('2016-08-31', 2.46),\n",
       " ('2016-09-01', 0.02),\n",
       " ('2016-09-02', 0.19),\n",
       " ('2016-09-03', 1.0),\n",
       " ('2016-09-04', 0.74),\n",
       " ('2016-09-05', 0.18),\n",
       " ('2016-09-06', 1.0),\n",
       " ('2016-09-07', 1.35),\n",
       " ('2016-09-08', 0.22),\n",
       " ('2016-09-09', 0.35),\n",
       " ('2016-09-10', 1.16),\n",
       " ('2016-09-11', 0.6),\n",
       " ('2016-09-12', 1.04),\n",
       " ('2016-09-13', 1.2),\n",
       " ('2016-09-14', 6.7),\n",
       " ('2016-09-15', 3.35),\n",
       " ('2016-09-16', 0.61),\n",
       " ('2016-09-17', 0.36),\n",
       " ('2016-09-18', 0.42),\n",
       " ('2016-09-19', 0.25),\n",
       " ('2016-09-20', 0.43),\n",
       " ('2016-09-21', 1.02),\n",
       " ('2016-09-22', 0.75),\n",
       " ('2016-09-23', 0.94),\n",
       " ('2016-09-24', 0.27),\n",
       " ('2016-09-25', 0.04),\n",
       " ('2016-09-26', 1.02),\n",
       " ('2016-09-27', 1.0),\n",
       " ('2016-09-28', 0.08),\n",
       " ('2016-09-29', 1.49),\n",
       " ('2016-09-30', 0.38),\n",
       " ('2016-10-01', 1.02),\n",
       " ('2016-10-02', 0.61),\n",
       " ('2016-10-03', 0.46),\n",
       " ('2016-10-04', 3.46),\n",
       " ('2016-10-05', 0.81),\n",
       " ('2016-10-06', 0.07),\n",
       " ('2016-10-07', 0.01),\n",
       " ('2016-10-08', 0.04),\n",
       " ('2016-10-09', 0.0),\n",
       " ('2016-10-10', 0.0),\n",
       " ('2016-10-11', 0.35),\n",
       " ('2016-10-12', 0.03),\n",
       " ('2016-10-13', 0.06),\n",
       " ('2016-10-14', 0.0),\n",
       " ('2016-10-15', 0.33),\n",
       " ('2016-10-16', 0.0),\n",
       " ('2016-10-17', 0.38),\n",
       " ('2016-10-18', 0.48),\n",
       " ('2016-10-19', 0.11),\n",
       " ('2016-10-20', 1.0),\n",
       " ('2016-10-21', 0.15),\n",
       " ('2016-10-22', 1.37),\n",
       " ('2016-10-23', 0.24),\n",
       " ('2016-10-24', 0.7),\n",
       " ('2016-10-25', 0.4),\n",
       " ('2016-10-26', 0.2),\n",
       " ('2016-10-27', 1.25),\n",
       " ('2016-10-28', 0.37),\n",
       " ('2016-10-29', 0.26),\n",
       " ('2016-10-30', 0.95),\n",
       " ('2016-10-31', 1.35),\n",
       " ('2016-11-01', 0.1),\n",
       " ('2016-11-02', 0.04),\n",
       " ('2016-11-03', 0.02),\n",
       " ('2016-11-04', 0.06),\n",
       " ('2016-11-05', 0.38),\n",
       " ('2016-11-06', 0.05),\n",
       " ('2016-11-07', 0.13),\n",
       " ('2016-11-08', 0.53),\n",
       " ('2016-11-09', 0.17),\n",
       " ('2016-11-10', 0.01),\n",
       " ('2016-11-11', 0.0),\n",
       " ('2016-11-12', 0.0),\n",
       " ('2016-11-13', 0.0),\n",
       " ('2016-11-14', 0.06),\n",
       " ('2016-11-15', 0.05),\n",
       " ('2016-11-16', 0.91),\n",
       " ('2016-11-17', 0.03),\n",
       " ('2016-11-18', 0.02),\n",
       " ('2016-11-19', 0.13),\n",
       " ('2016-11-20', 0.4),\n",
       " ('2016-11-21', 2.87),\n",
       " ('2016-11-22', 2.11),\n",
       " ('2016-11-23', 0.25),\n",
       " ('2016-11-24', 0.72),\n",
       " ('2016-11-25', 1.03),\n",
       " ('2016-11-26', 0.3),\n",
       " ('2016-11-27', 0.29),\n",
       " ('2016-11-28', 0.69),\n",
       " ('2016-11-29', 0.2),\n",
       " ('2016-11-30', 0.79),\n",
       " ('2016-12-01', 0.72),\n",
       " ('2016-12-02', 1.27),\n",
       " ('2016-12-03', 1.62),\n",
       " ('2016-12-04', 0.32),\n",
       " ('2016-12-05', 1.6),\n",
       " ('2016-12-06', 0.02),\n",
       " ('2016-12-07', 0.17),\n",
       " ('2016-12-08', 0.27),\n",
       " ('2016-12-09', 0.52),\n",
       " ('2016-12-10', 0.05),\n",
       " ('2016-12-11', 0.13),\n",
       " ('2016-12-12', 0.02),\n",
       " ('2016-12-13', 0.34),\n",
       " ('2016-12-14', 0.92),\n",
       " ('2016-12-15', 0.14),\n",
       " ('2016-12-16', 0.03),\n",
       " ('2016-12-17', 0.16),\n",
       " ('2016-12-18', 0.29),\n",
       " ('2016-12-19', 0.21),\n",
       " ('2016-12-20', 0.02),\n",
       " ('2016-12-21', 0.55),\n",
       " ('2016-12-22', 1.24),\n",
       " ('2016-12-23', 0.83),\n",
       " ('2016-12-24', 1.08),\n",
       " ('2016-12-25', 0.38),\n",
       " ('2016-12-26', 1.48),\n",
       " ('2016-12-27', 0.14),\n",
       " ('2016-12-28', 0.14),\n",
       " ('2016-12-29', 1.03),\n",
       " ('2016-12-30', 2.37),\n",
       " ('2016-12-31', 0.9),\n",
       " ('2017-01-01', 0.29),\n",
       " ('2017-01-02', 0.01),\n",
       " ('2017-01-03', 0.0),\n",
       " ('2017-01-04', 0.18),\n",
       " ('2017-01-05', 0.47),\n",
       " ('2017-01-06', 0.59),\n",
       " ('2017-01-07', 0.06),\n",
       " ('2017-01-08', 0.03),\n",
       " ('2017-01-09', 0.0),\n",
       " ('2017-01-10', 0.0),\n",
       " ('2017-01-11', 0.0),\n",
       " ('2017-01-12', 0.0),\n",
       " ('2017-01-13', 0.0),\n",
       " ('2017-01-14', 0.01),\n",
       " ('2017-01-15', 0.01),\n",
       " ('2017-01-16', 0.0),\n",
       " ('2017-01-17', 0.0),\n",
       " ('2017-01-18', 0.07),\n",
       " ('2017-01-19', 0.02),\n",
       " ('2017-01-20', 0.0),\n",
       " ('2017-01-21', 0.11),\n",
       " ('2017-01-22', 0.72),\n",
       " ('2017-01-23', 0.85),\n",
       " ('2017-01-24', 1.85),\n",
       " ('2017-01-25', 2.64),\n",
       " ('2017-01-26', 0.1),\n",
       " ('2017-01-27', 0.03),\n",
       " ('2017-01-28', 0.14),\n",
       " ('2017-01-29', 0.55),\n",
       " ('2017-01-30', 0.05),\n",
       " ('2017-01-31', 0.0),\n",
       " ('2017-02-01', 0.0),\n",
       " ('2017-02-02', 0.0),\n",
       " ('2017-02-03', 0.0),\n",
       " ('2017-02-04', 0.0),\n",
       " ('2017-02-05', 0.0),\n",
       " ('2017-02-06', 0.18),\n",
       " ('2017-02-07', 1.8),\n",
       " ('2017-02-08', 1.08),\n",
       " ('2017-02-09', 0.02),\n",
       " ('2017-02-10', 0.0),\n",
       " ('2017-02-11', 5.04),\n",
       " ('2017-02-12', 2.98),\n",
       " ('2017-02-13', 2.9),\n",
       " ('2017-02-14', 0.01),\n",
       " ('2017-02-15', 0.07),\n",
       " ('2017-02-16', 0.73),\n",
       " ('2017-02-17', 0.8),\n",
       " ('2017-02-18', 0.01),\n",
       " ('2017-02-19', 0.1),\n",
       " ('2017-02-20', 0.0),\n",
       " ('2017-02-21', 0.07),\n",
       " ('2017-02-22', 0.32),\n",
       " ('2017-02-23', 0.01),\n",
       " ('2017-02-24', 0.0),\n",
       " ('2017-02-25', 0.12),\n",
       " ('2017-02-26', 0.0),\n",
       " ('2017-02-27', 0.0),\n",
       " ('2017-02-28', 0.58),\n",
       " ('2017-03-01', 2.4),\n",
       " ('2017-03-02', 1.88),\n",
       " ('2017-03-03', 0.56),\n",
       " ('2017-03-04', 0.0),\n",
       " ('2017-03-05', 0.41),\n",
       " ('2017-03-06', 0.51),\n",
       " ('2017-03-07', 0.0),\n",
       " ('2017-03-08', 0.0),\n",
       " ('2017-03-09', 0.8),\n",
       " ('2017-03-10', 0.13),\n",
       " ('2017-03-11', 0.03),\n",
       " ('2017-03-12', 0.0),\n",
       " ('2017-03-13', 0.0),\n",
       " ('2017-03-14', 0.06),\n",
       " ('2017-03-15', 0.06),\n",
       " ('2017-03-16', 0.0),\n",
       " ('2017-03-17', 0.35),\n",
       " ('2017-03-18', 0.0),\n",
       " ('2017-03-19', 0.0),\n",
       " ('2017-03-20', 0.02),\n",
       " ('2017-03-21', 0.09),\n",
       " ('2017-03-22', 0.0),\n",
       " ('2017-03-23', 0.03),\n",
       " ('2017-03-24', 0.6),\n",
       " ('2017-03-25', 0.93),\n",
       " ('2017-03-26', 0.0),\n",
       " ('2017-03-27', 0.01),\n",
       " ('2017-03-28', 0.68),\n",
       " ('2017-03-29', 0.08),\n",
       " ('2017-03-30', 0.08),\n",
       " ('2017-03-31', 0.01),\n",
       " ('2017-04-01', 0.21),\n",
       " ('2017-04-02', 0.0),\n",
       " ('2017-04-03', 0.26),\n",
       " ('2017-04-04', 0.09),\n",
       " ('2017-04-05', 0.45),\n",
       " ('2017-04-06', 0.06),\n",
       " ('2017-04-07', 0.0),\n",
       " ('2017-04-08', 0.0),\n",
       " ('2017-04-09', 0.0),\n",
       " ('2017-04-10', 0.01),\n",
       " ('2017-04-11', 0.25),\n",
       " ('2017-04-12', 0.65),\n",
       " ('2017-04-13', 0.59),\n",
       " ('2017-04-14', 2.82),\n",
       " ('2017-04-15', 0.9),\n",
       " ('2017-04-16', 0.49),\n",
       " ('2017-04-17', 1.3),\n",
       " ('2017-04-18', 2.03),\n",
       " ('2017-04-19', 0.14),\n",
       " ('2017-04-20', 0.35),\n",
       " ('2017-04-21', 2.36),\n",
       " ('2017-04-22', 1.58),\n",
       " ('2017-04-23', 0.35),\n",
       " ('2017-04-24', 0.05),\n",
       " ('2017-04-25', 0.0),\n",
       " ('2017-04-26', 0.22),\n",
       " ('2017-04-27', 0.19),\n",
       " ('2017-04-28', 2.6),\n",
       " ('2017-04-29', 6.25),\n",
       " ('2017-04-30', 1.31),\n",
       " ('2017-05-01', 0.26),\n",
       " ('2017-05-02', 0.03),\n",
       " ('2017-05-03', 0.01),\n",
       " ('2017-05-04', 0.08),\n",
       " ('2017-05-05', 0.28),\n",
       " ('2017-05-06', 0.06),\n",
       " ('2017-05-07', 0.07),\n",
       " ('2017-05-08', 1.11),\n",
       " ('2017-05-09', 1.62),\n",
       " ('2017-05-10', 0.55),\n",
       " ('2017-05-11', 0.44),\n",
       " ('2017-05-12', 0.1),\n",
       " ('2017-05-13', 0.12),\n",
       " ('2017-05-14', 1.0),\n",
       " ('2017-05-15', 0.6),\n",
       " ('2017-05-16', 0.3),\n",
       " ('2017-05-17', 0.07),\n",
       " ('2017-05-18', 0.46),\n",
       " ('2017-05-19', 0.02),\n",
       " ('2017-05-20', 0.02),\n",
       " ('2017-05-21', 0.01),\n",
       " ('2017-05-22', 0.3),\n",
       " ('2017-05-23', 0.44),\n",
       " ('2017-05-24', 2.17),\n",
       " ('2017-05-25', 0.88),\n",
       " ('2017-05-26', 0.02),\n",
       " ('2017-05-27', 0.5),\n",
       " ('2017-05-28', 0.29),\n",
       " ('2017-05-29', 0.4),\n",
       " ('2017-05-30', 1.12),\n",
       " ('2017-05-31', 0.25),\n",
       " ('2017-06-01', 0.03),\n",
       " ('2017-06-02', 0.15),\n",
       " ('2017-06-03', 0.2),\n",
       " ('2017-06-04', 0.82),\n",
       " ('2017-06-05', 0.05),\n",
       " ('2017-06-06', 0.0),\n",
       " ('2017-06-07', 0.01),\n",
       " ('2017-06-08', 0.02),\n",
       " ('2017-06-09', 0.02),\n",
       " ('2017-06-10', 0.62),\n",
       " ('2017-06-11', 0.74),\n",
       " ('2017-06-12', 0.81),\n",
       " ('2017-06-13', 0.65),\n",
       " ('2017-06-14', 0.81),\n",
       " ('2017-06-15', 1.69),\n",
       " ('2017-06-16', 0.1),\n",
       " ('2017-06-17', 0.35),\n",
       " ('2017-06-18', 0.7),\n",
       " ('2017-06-19', 0.4),\n",
       " ('2017-06-20', 0.31),\n",
       " ('2017-06-21', 0.3),\n",
       " ('2017-06-22', 0.28),\n",
       " ('2017-06-23', 0.5),\n",
       " ('2017-06-24', 0.36),\n",
       " ('2017-06-25', 0.5),\n",
       " ('2017-06-26', 0.06),\n",
       " ('2017-06-27', 0.1),\n",
       " ('2017-06-28', 0.02),\n",
       " ('2017-06-29', 0.04),\n",
       " ('2017-06-30', 0.2),\n",
       " ('2017-07-01', 0.1),\n",
       " ('2017-07-02', 0.5),\n",
       " ('2017-07-03', 0.4),\n",
       " ('2017-07-04', 0.08),\n",
       " ('2017-07-05', 0.0),\n",
       " ('2017-07-06', 0.02),\n",
       " ('2017-07-07', 0.3),\n",
       " ('2017-07-08', 0.06),\n",
       " ('2017-07-09', 0.11),\n",
       " ('2017-07-10', 0.02),\n",
       " ('2017-07-11', 0.02),\n",
       " ('2017-07-12', 0.28),\n",
       " ('2017-07-13', 0.68),\n",
       " ('2017-07-14', 0.68),\n",
       " ('2017-07-15', 0.1),\n",
       " ('2017-07-16', 0.5),\n",
       " ('2017-07-17', 0.39),\n",
       " ('2017-07-18', 2.4),\n",
       " ('2017-07-19', 0.27),\n",
       " ('2017-07-20', 0.7),\n",
       " ('2017-07-21', 0.1),\n",
       " ('2017-07-22', 4.0),\n",
       " ('2017-07-23', 0.8),\n",
       " ('2017-07-24', 1.19),\n",
       " ('2017-07-25', 0.3),\n",
       " ('2017-07-26', 0.3),\n",
       " ('2017-07-27', 0.01),\n",
       " ('2017-07-28', 0.4),\n",
       " ('2017-07-29', 0.3),\n",
       " ('2017-07-30', 0.3),\n",
       " ('2017-07-31', 0.0),\n",
       " ('2017-08-01', 0.12),\n",
       " ('2017-08-02', 0.25),\n",
       " ('2017-08-03', 0.06),\n",
       " ('2017-08-04', 0.04),\n",
       " ('2017-08-05', 0.06),\n",
       " ('2017-08-06', 0.0),\n",
       " ('2017-08-07', 0.05),\n",
       " ('2017-08-08', 0.34),\n",
       " ('2017-08-09', 0.15),\n",
       " ('2017-08-10', 0.07),\n",
       " ('2017-08-11', 0.0),\n",
       " ('2017-08-12', 0.14),\n",
       " ('2017-08-13', 0.0),\n",
       " ('2017-08-14', 0.22),\n",
       " ('2017-08-15', 0.42),\n",
       " ('2017-08-16', 0.42),\n",
       " ('2017-08-17', 0.13),\n",
       " ('2017-08-18', 0.06),\n",
       " ('2017-08-19', 0.09),\n",
       " ('2017-08-20', 0.01),\n",
       " ('2017-08-21', 0.56),\n",
       " ('2017-08-22', 0.5),\n",
       " ('2017-08-23', 0.45)]"
      ]
     },
     "execution_count": 16,
     "metadata": {},
     "output_type": "execute_result"
    }
   ],
   "source": [
    "year_prcp=(session.query(Measurement.date,func.max(Measurement.prcp))\n",
    "                  .filter(func.strftime('%Y-%m-%d',Measurement.date) > year_ago_date)\n",
    "                  .group_by(Measurement.date)\n",
    "                  .all())\n",
    "year_prcp"
   ]
  },
  {
   "cell_type": "code",
   "execution_count": 17,
   "metadata": {
    "scrolled": true
   },
   "outputs": [
    {
     "data": {
      "image/png": "[encoded data removed]",
      "text/plain": [
       "<Figure size 864x504 with 1 Axes>"
      ]
     },
     "metadata": {},
     "output_type": "display_data"
    }
   ],
   "source": [
    "# Use Pandas Plotting with Matplotlib to plot the data\n",
    "\n",
    "prcp_df=pd.DataFrame(year_prcp, columns=['date', 'prcp'])\n",
    "prcp_df.set_index('date',inplace=True)\n",
    "prcp_df.head(6)\n",
    "\n",
    "plt.rcParams['figure.figsize']=(12,7)\n",
    "prcp_df.plot(linewidth=2,\n",
    "             alpha=1,\n",
    "             rot=90, \n",
    "             xticks=(0,39,78,118,158,198,238,281,321),\n",
    "             color='b')\n",
    "\n",
    "plt.xlim(-5,370)\n",
    "plt.ylim(-0.4,7)\n",
    "plt.yticks(size=14)\n",
    "plt.xticks(fontsize=14)\n",
    "plt.legend('precipitation',frameon=True)\n",
    "plt.xlabel('Date',fontsize=16,color='black',labelpad=20)\n",
    "plt.ylabel('Inches',fontsize=16,color='black',labelpad=20)\n",
    "plt.title('Yearly Rain',fontsize=20,pad=40)\n",
    "\n",
    "plt.show()"
   ]
  },
  {
   "cell_type": "code",
   "execution_count": 18,
   "metadata": {},
   "outputs": [
    {
     "data": {
      "text/html": [
       "<div>\n",
       "<style scoped>\n",
       "    .dataframe tbody tr th:only-of-type {\n",
       "        vertical-align: middle;\n",
       "    }\n",
       "\n",
       "    .dataframe tbody tr th {\n",
       "        vertical-align: top;\n",
       "    }\n",
       "\n",
       "    .dataframe thead th {\n",
       "        text-align: right;\n",
       "    }\n",
       "</style>\n",
       "<table border=\"1\" class=\"dataframe\">\n",
       "  <thead>\n",
       "    <tr style=\"text-align: right;\">\n",
       "      <th></th>\n",
       "      <th>prcp</th>\n",
       "    </tr>\n",
       "  </thead>\n",
       "  <tbody>\n",
       "    <tr>\n",
       "      <th>count</th>\n",
       "      <td>366.000000</td>\n",
       "    </tr>\n",
       "    <tr>\n",
       "      <th>mean</th>\n",
       "      <td>0.520765</td>\n",
       "    </tr>\n",
       "    <tr>\n",
       "      <th>std</th>\n",
       "      <td>0.830728</td>\n",
       "    </tr>\n",
       "    <tr>\n",
       "      <th>min</th>\n",
       "      <td>0.000000</td>\n",
       "    </tr>\n",
       "    <tr>\n",
       "      <th>25%</th>\n",
       "      <td>0.040000</td>\n",
       "    </tr>\n",
       "    <tr>\n",
       "      <th>50%</th>\n",
       "      <td>0.250000</td>\n",
       "    </tr>\n",
       "    <tr>\n",
       "      <th>75%</th>\n",
       "      <td>0.672500</td>\n",
       "    </tr>\n",
       "    <tr>\n",
       "      <th>max</th>\n",
       "      <td>6.700000</td>\n",
       "    </tr>\n",
       "  </tbody>\n",
       "</table>\n",
       "</div>"
      ],
      "text/plain": [
       "             prcp\n",
       "count  366.000000\n",
       "mean     0.520765\n",
       "std      0.830728\n",
       "min      0.000000\n",
       "25%      0.040000\n",
       "50%      0.250000\n",
       "75%      0.672500\n",
       "max      6.700000"
      ]
     },
     "execution_count": 18,
     "metadata": {},
     "output_type": "execute_result"
    }
   ],
   "source": [
    "# Use Pandas to calcualte the summary statistics for the precipitation data\n",
    "prcp_df.describe()"
   ]
  },
  {
   "cell_type": "markdown",
   "metadata": {},
   "source": [
    "# Exploratory Station Analysis"
   ]
  },
  {
   "cell_type": "code",
   "execution_count": 19,
   "metadata": {},
   "outputs": [
    {
     "name": "stdout",
     "output_type": "stream",
     "text": [
      "9\n"
     ]
    }
   ],
   "source": [
    "# Design a query to calculate the total number stations in the dataset\n",
    "\n",
    "total_stations=session.query(Station).count()\n",
    "print(total_stations)"
   ]
  },
  {
   "cell_type": "code",
   "execution_count": 20,
   "metadata": {},
   "outputs": [
    {
     "name": "stdout",
     "output_type": "stream",
     "text": [
      "[('USC00519281', 'WAIHEE 837.5, HI US', 2772), ('USC00519397', 'WAIKIKI 717.2, HI US', 2724), ('USC00513117', 'KANEOHE 838.1, HI US', 2709), ('USC00519523', 'WAIMANALO EXPERIMENTAL FARM, HI US', 2669), ('USC00516128', 'MANOA LYON ARBO 785.2, HI US', 2612), ('USC00514830', 'KUALOA RANCH HEADQUARTERS 886.9, HI US', 2202), ('USC00511918', 'HONOLULU OBSERVATORY 702.2, HI US', 1979), ('USC00517948', 'PEARL CITY, HI US', 1372), ('USC00518838', 'UPPER WAHIAWA 874.3, HI US', 511)]\n"
     ]
    }
   ],
   "source": [
    "# Design a query to find the most active stations (i.e. what stations have the most rows?)\n",
    "# List the stations and the counts in descending order.\n",
    "active_stations = (session.query(Measurement.station, Station.name, func.count(Measurement.id)).filter(Measurement.station == Station.station).group_by(Measurement.station).order_by(func.count(Measurement.id).desc()).all())\n",
    "print(active_stations)"
   ]
  },
  {
   "cell_type": "code",
   "execution_count": 23,
   "metadata": {},
   "outputs": [
    {
     "name": "stdout",
     "output_type": "stream",
     "text": [
      " Most active station is USC00519281 - WAIHEE 837.5, HI US\n",
      "The lowest:54.0F , highest :85.0F, and average :71.66378066378067F temperature\n"
     ]
    }
   ],
   "source": [
    "# Using the most active station id from the previous query, calculate the lowest, highest, and average temperature.\n",
    "\n",
    "station_record = (session.query(func.min(Measurement.tobs),func.max(Measurement.tobs),func.avg(Measurement.tobs),).filter(Measurement.station == active_stations[0][0]).all())    \n",
    "print(f\" Most active station is {active_stations[0][0]} - {active_stations[0][1]}\")\n",
    "print(f\"The lowest:{station_record[0][0]}F , highest :{station_record[0][1]}F, and average :{station_record[0][2]}F temperature\")"
   ]
  },
  {
   "cell_type": "code",
   "execution_count": 24,
   "metadata": {},
   "outputs": [
    {
     "ename": "KeyError",
     "evalue": "\"None of ['date'] are in the columns\"",
     "output_type": "error",
     "traceback": [
      "\u001b[1;31m---------------------------------------------------------------------------\u001b[0m",
      "\u001b[1;31mKeyError\u001b[0m                                  Traceback (most recent call last)",
      "\u001b[1;32m<ipython-input-24-2f480f3fc0dd>\u001b[0m in \u001b[0;36m<module>\u001b[1;34m\u001b[0m\n\u001b[0;32m      5\u001b[0m \u001b[0mtemperature_results\u001b[0m \u001b[1;33m=\u001b[0m \u001b[1;33m(\u001b[0m\u001b[0msession\u001b[0m\u001b[1;33m.\u001b[0m\u001b[0mquery\u001b[0m\u001b[1;33m(\u001b[0m\u001b[0mMeasurement\u001b[0m\u001b[1;33m.\u001b[0m\u001b[0mdate\u001b[0m\u001b[1;33m,\u001b[0m \u001b[0mMeasurement\u001b[0m\u001b[1;33m.\u001b[0m\u001b[0mtobs\u001b[0m\u001b[1;33m)\u001b[0m\u001b[1;33m.\u001b[0m\u001b[0mfilter\u001b[0m\u001b[1;33m(\u001b[0m\u001b[0mMeasurement\u001b[0m\u001b[1;33m.\u001b[0m\u001b[0mdate\u001b[0m \u001b[1;33m>\u001b[0m \u001b[0myear_ago_date\u001b[0m\u001b[1;33m)\u001b[0m\u001b[1;33m.\u001b[0m\u001b[0mfilter\u001b[0m\u001b[1;33m(\u001b[0m\u001b[0mMeasurement\u001b[0m\u001b[1;33m.\u001b[0m\u001b[0mstation\u001b[0m \u001b[1;33m==\u001b[0m \u001b[0mactive_stations\u001b[0m\u001b[1;33m[\u001b[0m\u001b[1;36m0\u001b[0m\u001b[1;33m]\u001b[0m\u001b[1;33m[\u001b[0m\u001b[1;36m0\u001b[0m\u001b[1;33m]\u001b[0m\u001b[1;33m)\u001b[0m\u001b[1;33m.\u001b[0m\u001b[0morder_by\u001b[0m\u001b[1;33m(\u001b[0m\u001b[0mMeasurement\u001b[0m\u001b[1;33m.\u001b[0m\u001b[0mdate\u001b[0m\u001b[1;33m)\u001b[0m\u001b[1;33m.\u001b[0m\u001b[0mall\u001b[0m\u001b[1;33m(\u001b[0m\u001b[1;33m)\u001b[0m\u001b[1;33m)\u001b[0m\u001b[1;33m\u001b[0m\u001b[1;33m\u001b[0m\u001b[0m\n\u001b[0;32m      6\u001b[0m \u001b[0mtemperature_df\u001b[0m \u001b[1;33m=\u001b[0m \u001b[0mpd\u001b[0m\u001b[1;33m.\u001b[0m\u001b[0mDataFrame\u001b[0m\u001b[1;33m(\u001b[0m\u001b[0mtemperature_results\u001b[0m\u001b[1;33m)\u001b[0m\u001b[1;33m\u001b[0m\u001b[1;33m\u001b[0m\u001b[0m\n\u001b[1;32m----> 7\u001b[1;33m \u001b[0mtemperature_df\u001b[0m \u001b[1;33m=\u001b[0m \u001b[0mtemperature_df\u001b[0m\u001b[1;33m.\u001b[0m\u001b[0mset_index\u001b[0m\u001b[1;33m(\u001b[0m\u001b[1;34m'date'\u001b[0m\u001b[1;33m)\u001b[0m\u001b[1;33m.\u001b[0m\u001b[0msort_index\u001b[0m\u001b[1;33m(\u001b[0m\u001b[0mascending\u001b[0m \u001b[1;33m=\u001b[0m \u001b[1;32mTrue\u001b[0m\u001b[1;33m)\u001b[0m\u001b[1;33m\u001b[0m\u001b[1;33m\u001b[0m\u001b[0m\n\u001b[0m\u001b[0;32m      8\u001b[0m \u001b[1;33m\u001b[0m\u001b[0m\n\u001b[0;32m      9\u001b[0m \u001b[0mtemperature_df\u001b[0m\u001b[1;33m.\u001b[0m\u001b[0mplot\u001b[0m\u001b[1;33m(\u001b[0m\u001b[0mkind\u001b[0m \u001b[1;33m=\u001b[0m \u001b[1;34m\"hist\"\u001b[0m\u001b[1;33m,\u001b[0m \u001b[0mbins\u001b[0m \u001b[1;33m=\u001b[0m \u001b[1;36m12\u001b[0m\u001b[1;33m)\u001b[0m\u001b[1;33m\u001b[0m\u001b[1;33m\u001b[0m\u001b[0m\n",
      "\u001b[1;32m~\\anaconda3\\lib\\site-packages\\pandas\\core\\frame.py\u001b[0m in \u001b[0;36mset_index\u001b[1;34m(self, keys, drop, append, inplace, verify_integrity)\u001b[0m\n\u001b[0;32m   4725\u001b[0m \u001b[1;33m\u001b[0m\u001b[0m\n\u001b[0;32m   4726\u001b[0m         \u001b[1;32mif\u001b[0m \u001b[0mmissing\u001b[0m\u001b[1;33m:\u001b[0m\u001b[1;33m\u001b[0m\u001b[1;33m\u001b[0m\u001b[0m\n\u001b[1;32m-> 4727\u001b[1;33m             \u001b[1;32mraise\u001b[0m \u001b[0mKeyError\u001b[0m\u001b[1;33m(\u001b[0m\u001b[1;34mf\"None of {missing} are in the columns\"\u001b[0m\u001b[1;33m)\u001b[0m\u001b[1;33m\u001b[0m\u001b[1;33m\u001b[0m\u001b[0m\n\u001b[0m\u001b[0;32m   4728\u001b[0m \u001b[1;33m\u001b[0m\u001b[0m\n\u001b[0;32m   4729\u001b[0m         \u001b[1;32mif\u001b[0m \u001b[0minplace\u001b[0m\u001b[1;33m:\u001b[0m\u001b[1;33m\u001b[0m\u001b[1;33m\u001b[0m\u001b[0m\n",
      "\u001b[1;31mKeyError\u001b[0m: \"None of ['date'] are in the columns\""
     ]
    }
   ],
   "source": [
    "# Using the most active station id\n",
    "# Query the last 12 months of temperature observation data for this station and plot the results as a histogram\n",
    "\n",
    "\n",
    "temperature_results = (session.query(Measurement.date, Measurement.tobs).filter(Measurement.date > year_ago_date).filter(Measurement.station == active_stations[0][0]).order_by(Measurement.date).all())\n",
    "temperature_df = pd.DataFrame(temperature_results)\n",
    "temperature_df = temperature_df.set_index('date').sort_index(ascending = True)\n",
    "\n",
    "temperature_df.plot(kind = \"hist\", bins = 12)\n",
    "plt.xlabel(\"Temperature\")\n",
    "plt.xlabel(\"Frequency\")\n",
    "plt.savefig(\"static/hist.png\")"
   ]
  },
  {
   "cell_type": "markdown",
   "metadata": {},
   "source": [
    "# Close session"
   ]
  },
  {
   "cell_type": "code",
   "execution_count": 25,
   "metadata": {},
   "outputs": [],
   "source": [
    "# Close Session\n",
    "session.close()"
   ]
  },
  {
   "cell_type": "code",
   "execution_count": null,
   "metadata": {},
   "outputs": [],
   "source": []
  }
 ],
 "metadata": {
  "anaconda-cloud": {},
  "interpreter": {
   "hash": "bf767deeef92569e020d0bcb55d00d25ba18f03ec0c21458618a762aae5ca91b"
  },
  "kernel_info": {
   "name": "python3"
  },
  "kernelspec": {
   "display_name": "Python 3",
   "language": "python",
   "name": "python3"
  },
  "language_info": {
   "codemirror_mode": {
    "name": "ipython",
    "version": 3
   },
   "file_extension": ".py",
   "mimetype": "text/x-python",
   "name": "python",
   "nbconvert_exporter": "python",
   "pygments_lexer": "ipython3",
   "version": "3.8.8"
  },
  "nteract": {
   "version": "0.12.3"
  },
  "varInspector": {
   "cols": {
    "lenName": 16,
    "lenType": 16,
    "lenVar": 40
   },
   "kernels_config": {
    "python": {
     "delete_cmd_postfix": "",
     "delete_cmd_prefix": "del ",
     "library": "var_list.py",
     "varRefreshCmd": "print(var_dic_list())"
    },
    "r": {
     "delete_cmd_postfix": ") ",
     "delete_cmd_prefix": "rm(",
     "library": "var_list.r",
     "varRefreshCmd": "cat(var_dic_list()) "
    }
   },
   "types_to_exclude": [
    "module",
    "function",
    "builtin_function_or_method",
    "instance",
    "_Feature"
   ],
   "window_display": false
  }
 },
 "nbformat": 4,
 "nbformat_minor": 2
}
